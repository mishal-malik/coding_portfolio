{
 "cells": [
  {
   "cell_type": "code",
   "execution_count": 1,
   "id": "e367a492-ad3a-40fa-8456-e6e159303ba1",
   "metadata": {},
   "outputs": [],
   "source": [
    "import scipy.optimize as opt\n",
    "import numpy as np\n",
    "import pandas as pd\n",
    "import csv\n",
    "import matplotlib.pyplot as plt\n",
    "from scipy import random\n",
    "from scipy.stats import norm\n",
    "from numpy.random import standard_normal\n",
    "from pandas.plotting import scatter_matrix\n",
    "import yfinance as yf\n",
    "import datetime\n",
    "\n",
    "\n",
    "\n",
    "\n"
   ]
  },
  {
   "cell_type": "code",
   "execution_count": 2,
   "id": "b85d2fc1-f002-489a-9e9d-78b2d24c5851",
   "metadata": {},
   "outputs": [
    {
     "name": "stdout",
     "output_type": "stream",
     "text": [
      "Estimate of I =  0.05011646977863939\n"
     ]
    }
   ],
   "source": [
    "#Question No. 1\n",
    "N = 10000 #number of points\n",
    "\n",
    "a = 2.0 #lower bound\n",
    "b = 5.0 #upper bound\n",
    "# an array of N points uniformly distributed between a=2 and b5\n",
    "\n",
    "x = np.random.uniform(a , b , N)\n",
    "#making a variable for exponent\n",
    "\n",
    "e = np.exp(x)\n",
    "f_x = np.sin(e)\n",
    "I_hat = ( b - a ) * np.mean(f_x)\n",
    "print(\"Estimate of I = \",I_hat)"
   ]
  },
  {
   "cell_type": "code",
   "execution_count": 33,
   "id": "41540974-2d7a-41d6-aebc-e5a377635f76",
   "metadata": {},
   "outputs": [],
   "source": [
    "#Question No.2: RANDOM WALKS WITH BOUNDARIES\n",
    "\n",
    "def getStep():\n",
    "    step = np.random.randint(2)\n",
    "    #if step==0:\n",
    "     #   step=-1\n",
    "    return step\n",
    "\n",
    "\n",
    "\n",
    "\n",
    "def takeSteps():\n",
    "    pos = []\n",
    "    N50_l = []\n",
    "    for i in range(10000):\n",
    "        N = 0\n",
    "        N50 = 0\n",
    "        for j in range(1000):\n",
    "            s = getStep()\n",
    "            if s==0:\n",
    "                N = N-1\n",
    "            elif s==1:\n",
    "                if N==50:\n",
    "                    N=49\n",
    "                else:\n",
    "                    N = N+1\n",
    "                    if N == 50:\n",
    "                        N50 = N50 +1\n",
    "        pos.append(N)\n",
    "        N50_l.append(N50)\n",
    "    \n",
    "    return np.mean(pos), np.std(pos), np.mean(N50_l), np.std(N50_l)\n",
    "    \n",
    "        \n",
    "    \n",
    "    \n",
    "            \n",
    "            \n",
    "    \n",
    "    \n",
    "    "
   ]
  },
  {
   "cell_type": "code",
   "execution_count": 34,
   "id": "8874e281-bf2a-43c2-9420-d2d357c19ff2",
   "metadata": {},
   "outputs": [
    {
     "name": "stdout",
     "output_type": "stream",
     "text": [
      "Mean position: -1.447\n",
      "Standard deviation of position: 29.17913280068481\n",
      "Average number of times walker hit 50: 1.49\n",
      "Standard deviation: 5.56716265255471\n"
     ]
    }
   ],
   "source": [
    "stats = takeSteps()\n",
    "print(\"Mean position:\", stats[0])\n",
    "print(\"Standard deviation of position:\", stats[1])\n",
    "print(\"Average number of times walker hit 50:\", stats[2])\n",
    "print(\"Standard deviation:\", stats[3])"
   ]
  },
  {
   "cell_type": "code",
   "execution_count": 9,
   "id": "9056dd2f-2ebe-466a-9d91-a51f8e879754",
   "metadata": {},
   "outputs": [],
   "source": [
    "# Question 3\n",
    "\n",
    "\n",
    "\n",
    "import csv\n",
    "\n",
    "# csv file name\n",
    "filename = \"/Users/mishalmalik/Downloads/AAPL.csv\""
   ]
  },
  {
   "cell_type": "code",
   "execution_count": 10,
   "id": "27998143-5b30-4342-b4c4-e3c00a27eed0",
   "metadata": {},
   "outputs": [],
   "source": [
    "df= pd.read_csv(filename)\n"
   ]
  },
  {
   "cell_type": "code",
   "execution_count": 11,
   "id": "d3a8ec7b-4e91-4fdb-944e-1790383645f0",
   "metadata": {},
   "outputs": [
    {
     "data": {
      "text/html": [
       "<div>\n",
       "<style scoped>\n",
       "    .dataframe tbody tr th:only-of-type {\n",
       "        vertical-align: middle;\n",
       "    }\n",
       "\n",
       "    .dataframe tbody tr th {\n",
       "        vertical-align: top;\n",
       "    }\n",
       "\n",
       "    .dataframe thead th {\n",
       "        text-align: right;\n",
       "    }\n",
       "</style>\n",
       "<table border=\"1\" class=\"dataframe\">\n",
       "  <thead>\n",
       "    <tr style=\"text-align: right;\">\n",
       "      <th></th>\n",
       "      <th>Date</th>\n",
       "      <th>Open</th>\n",
       "      <th>High</th>\n",
       "      <th>Low</th>\n",
       "      <th>Close</th>\n",
       "      <th>Adj Close</th>\n",
       "      <th>Volume</th>\n",
       "    </tr>\n",
       "  </thead>\n",
       "  <tbody>\n",
       "    <tr>\n",
       "      <th>0</th>\n",
       "      <td>02/01/1981</td>\n",
       "      <td>0.154018</td>\n",
       "      <td>0.155134</td>\n",
       "      <td>0.154018</td>\n",
       "      <td>0.154018</td>\n",
       "      <td>0.120391</td>\n",
       "      <td>21660800</td>\n",
       "    </tr>\n",
       "    <tr>\n",
       "      <th>1</th>\n",
       "      <td>05/01/1981</td>\n",
       "      <td>0.151228</td>\n",
       "      <td>0.151228</td>\n",
       "      <td>0.150670</td>\n",
       "      <td>0.150670</td>\n",
       "      <td>0.117774</td>\n",
       "      <td>35728000</td>\n",
       "    </tr>\n",
       "    <tr>\n",
       "      <th>2</th>\n",
       "      <td>06/01/1981</td>\n",
       "      <td>0.144531</td>\n",
       "      <td>0.144531</td>\n",
       "      <td>0.143973</td>\n",
       "      <td>0.143973</td>\n",
       "      <td>0.112539</td>\n",
       "      <td>45158400</td>\n",
       "    </tr>\n",
       "    <tr>\n",
       "      <th>3</th>\n",
       "      <td>07/01/1981</td>\n",
       "      <td>0.138393</td>\n",
       "      <td>0.138393</td>\n",
       "      <td>0.137835</td>\n",
       "      <td>0.137835</td>\n",
       "      <td>0.107741</td>\n",
       "      <td>55686400</td>\n",
       "    </tr>\n",
       "    <tr>\n",
       "      <th>4</th>\n",
       "      <td>08/01/1981</td>\n",
       "      <td>0.135603</td>\n",
       "      <td>0.135603</td>\n",
       "      <td>0.135045</td>\n",
       "      <td>0.135045</td>\n",
       "      <td>0.105561</td>\n",
       "      <td>39827200</td>\n",
       "    </tr>\n",
       "  </tbody>\n",
       "</table>\n",
       "</div>"
      ],
      "text/plain": [
       "         Date      Open      High       Low     Close  Adj Close    Volume\n",
       "0  02/01/1981  0.154018  0.155134  0.154018  0.154018   0.120391  21660800\n",
       "1  05/01/1981  0.151228  0.151228  0.150670  0.150670   0.117774  35728000\n",
       "2  06/01/1981  0.144531  0.144531  0.143973  0.143973   0.112539  45158400\n",
       "3  07/01/1981  0.138393  0.138393  0.137835  0.137835   0.107741  55686400\n",
       "4  08/01/1981  0.135603  0.135603  0.135045  0.135045   0.105561  39827200"
      ]
     },
     "execution_count": 11,
     "metadata": {},
     "output_type": "execute_result"
    }
   ],
   "source": [
    "df.head()\n"
   ]
  },
  {
   "cell_type": "code",
   "execution_count": 12,
   "id": "eaa5426b-fcf2-4a47-ab65-8ea029dbbf9b",
   "metadata": {},
   "outputs": [],
   "source": [
    "import datetime as dt\n",
    "df['Date'] = pd.to_datetime(df['Date'])\n",
    "\n",
    "only_2018 = df[df['Date'].dt.year == 2018]"
   ]
  },
  {
   "cell_type": "code",
   "execution_count": null,
   "id": "8c929462-6302-404e-bf94-60ad5afb1bf0",
   "metadata": {},
   "outputs": [],
   "source": [
    "only_2018.head()"
   ]
  },
  {
   "cell_type": "code",
   "execution_count": 30,
   "id": "ed9a8812-9c65-4c9e-bfde-442f3f722cad",
   "metadata": {},
   "outputs": [
    {
     "data": {
      "image/png": "[encoded data removed]",
      "text/plain": [
       "<Figure size 1080x504 with 1 Axes>"
      ]
     },
     "metadata": {
      "needs_background": "light"
     },
     "output_type": "display_data"
    }
   ],
   "source": [
    "window_size = 20\n",
    "Adj_Close = only_2018['Adj Close']\n",
    "returns = np.log( Adj_Close / Adj_Close.shift(1) )\n",
    "returns.fillna(0, inplace=True)\n",
    "volatility = returns.rolling(window=window_size).std()*np.sqrt(window_size)\n",
    "fig = plt.figure(figsize=(15, 7))\n",
    "ax1 = fig.add_subplot(1, 1, 1)\n",
    "volatility.plot(ax=ax1)\n",
    "ax1.set_xlabel('Date')\n",
    "ax1.set_ylabel('Volatility')\n",
    "ax1.set_title('Annualized volatility for Apple Inc')\n",
    "plt.show()"
   ]
  },
  {
   "cell_type": "code",
   "execution_count": null,
   "id": "c060610d-d2dc-44df-83a9-5219b9ffe13c",
   "metadata": {},
   "outputs": [],
   "source": []
  },
  {
   "cell_type": "code",
   "execution_count": 37,
   "id": "e5381b19-6b50-4214-b1c4-3c5da2579f36",
   "metadata": {},
   "outputs": [],
   "source": [
    "\n",
    "#Question 4: Stock Pricing\n",
    "\n",
    "\n",
    "def get_gbm( mu , sigma , T , S0 , N):\n",
    "    t = np.linspace(0,T,N,True)\n",
    "    W = np.random.standard_normal(N)\n",
    "    dt = T/(N-1)\n",
    "    W = np.cumsum(W) * np.sqrt(dt)\n",
    "    X = (mu-0.5*sigma**2) * t + sigma * W\n",
    "    S = S0 * np.exp(X)\n",
    "    return S\n",
    "\n",
    "\n",
    "mu = 0.1\n",
    "sigma = 0.2\n",
    "T = 1.0 # years\n",
    "S0 = 20 #initial prices\n",
    "N = 5 #nodes\n",
    "time_l = 10000\n",
    "asset_price = np.empty([time_l])\n",
    "for time_line in range(time_l):\n",
    "    S=get_gbm(mu,sigma,T,S0,N)\n",
    "    asset_price[time_line]=S[-1]"
   ]
  },
  {
   "cell_type": "code",
   "execution_count": 38,
   "id": "4246f7f4-e4bf-4997-8b03-63ef31665afc",
   "metadata": {},
   "outputs": [
    {
     "data": {
      "text/plain": [
       "10000"
      ]
     },
     "execution_count": 38,
     "metadata": {},
     "output_type": "execute_result"
    }
   ],
   "source": [
    "len(asset_price)"
   ]
  },
  {
   "cell_type": "code",
   "execution_count": 39,
   "id": "dfdc29e5-bcdf-41f4-bb70-721c18d72e11",
   "metadata": {},
   "outputs": [
    {
     "data": {
      "text/plain": [
       "787"
      ]
     },
     "execution_count": 39,
     "metadata": {},
     "output_type": "execute_result"
    }
   ],
   "source": [
    "fa = asset_price \n",
    "for i in range(len(fa)):\n",
    "    if fa[i] - 22 < 0 or fa[i] - 22 >1:\n",
    "        fa[i] = 0\n",
    "    else:\n",
    "        fa[i] = fa[i] - 22\n",
    "\n",
    "\n",
    "check = np.where(fa>0)\n",
    "len(check[0])"
   ]
  },
  {
   "cell_type": "code",
   "execution_count": 29,
   "id": "7854c68a-3bda-445d-ba3d-4d5dcac48e96",
   "metadata": {},
   "outputs": [
    {
     "name": "stdout",
     "output_type": "stream",
     "text": [
      "Value of option when risk free rate is 0:  0.03539501527588076\n"
     ]
    }
   ],
   "source": [
    "Payoff=fa\n",
    "Payoff_mean=Payoff.mean()\n",
    "print(\"Value of option when risk free rate is 0: \",Payoff_mean)"
   ]
  },
  {
   "cell_type": "code",
   "execution_count": null,
   "id": "3ef7d746-85b6-494d-b845-5e20469270a4",
   "metadata": {},
   "outputs": [],
   "source": []
  }
 ],
 "metadata": {
  "kernelspec": {
   "display_name": "Python 3 (ipykernel)",
   "language": "python",
   "name": "python3"
  },
  "language_info": {
   "codemirror_mode": {
    "name": "ipython",
    "version": 3
   },
   "file_extension": ".py",
   "mimetype": "text/x-python",
   "name": "python",
   "nbconvert_exporter": "python",
   "pygments_lexer": "ipython3",
   "version": "3.9.7"
  }
 },
 "nbformat": 4,
 "nbformat_minor": 5
}
